{
 "cells": [
  {
   "cell_type": "code",
   "execution_count": 1,
   "metadata": {},
   "outputs": [],
   "source": [
    "import numpy as np\n",
    "import pandas as pd\n",
    "from pandas import Series, DataFrame"
   ]
  },
  {
   "cell_type": "code",
   "execution_count": 2,
   "metadata": {},
   "outputs": [],
   "source": [
    "students = pd.read_csv('./data/student-data.csv')"
   ]
  },
  {
   "cell_type": "code",
   "execution_count": 3,
   "metadata": {},
   "outputs": [
    {
     "data": {
      "text/plain": [
       "(395, 30)"
      ]
     },
     "execution_count": 3,
     "metadata": {},
     "output_type": "execute_result"
    }
   ],
   "source": [
    "students.shape"
   ]
  },
  {
   "cell_type": "code",
   "execution_count": 7,
   "metadata": {},
   "outputs": [],
   "source": [
    "for column_name in students:\n",
    "    column_content = students[column_name]\n",
    "    if column_content.dtypes == object:\n",
    "        unique_arr = column_content.unique()\n",
    "        \n",
    "        def transform_func(item):\n",
    "            return np.argwhere(unique_arr == item)[0, 0]\n",
    "        students[column_name] = students[column_name].map(transform_func)"
   ]
  },
  {
   "cell_type": "code",
   "execution_count": 8,
   "metadata": {},
   "outputs": [],
   "source": [
    "condition = np.abs(students - students.mean()) > 3*students.std()\n",
    "samples = students.drop(students[condition.any(axis=1)].index).copy()"
   ]
  },
  {
   "cell_type": "code",
   "execution_count": 9,
   "metadata": {},
   "outputs": [],
   "source": [
    "samples = samples =samples[samples.notnull().all(axis=1)]"
   ]
  },
  {
   "cell_type": "code",
   "execution_count": 10,
   "metadata": {},
   "outputs": [
    {
     "data": {
      "text/plain": [
       "school        False\n",
       "sex           False\n",
       "age           False\n",
       "address       False\n",
       "famsize       False\n",
       "Pstatus       False\n",
       "Medu          False\n",
       "Fedu          False\n",
       "Mjob          False\n",
       "Fjob          False\n",
       "reason        False\n",
       "guardian      False\n",
       "traveltime    False\n",
       "studytime     False\n",
       "failures      False\n",
       "schoolsup     False\n",
       "famsup        False\n",
       "paid          False\n",
       "activities    False\n",
       "nursery       False\n",
       "higher        False\n",
       "internet      False\n",
       "romantic      False\n",
       "famrel        False\n",
       "freetime      False\n",
       "goout         False\n",
       "Dalc          False\n",
       "Walc          False\n",
       "health        False\n",
       "passed        False\n",
       "dtype: bool"
      ]
     },
     "execution_count": 10,
     "metadata": {},
     "output_type": "execute_result"
    }
   ],
   "source": [
    "samples.isnull().any()"
   ]
  },
  {
   "cell_type": "code",
   "execution_count": 11,
   "metadata": {},
   "outputs": [
    {
     "data": {
      "text/plain": [
       "(347, 30)"
      ]
     },
     "execution_count": 11,
     "metadata": {},
     "output_type": "execute_result"
    }
   ],
   "source": [
    "samples.shape"
   ]
  },
  {
   "cell_type": "code",
   "execution_count": 12,
   "metadata": {},
   "outputs": [],
   "source": [
    "train = samples.iloc[:, :-1]\n",
    "target = samples.iloc[:, -1]"
   ]
  },
  {
   "cell_type": "code",
   "execution_count": 13,
   "metadata": {},
   "outputs": [],
   "source": [
    "from sklearn.preprocessing import Normalizer, MinMaxScaler, StandardScaler\n",
    "from sklearn.model_selection import train_test_split"
   ]
  },
  {
   "cell_type": "code",
   "execution_count": 14,
   "metadata": {},
   "outputs": [],
   "source": [
    "n_train = Normalizer().fit_transform(train)\n",
    "m_train = MinMaxScaler().fit_transform(train)\n",
    "s_train = StandardScaler().fit_transform(train)"
   ]
  },
  {
   "cell_type": "code",
   "execution_count": 18,
   "metadata": {},
   "outputs": [],
   "source": [
    "X_train1, X_test1, y_train1, y_test1 = train_test_split(n_train, target, test_size=0.25, random_state=1)\n",
    "X_train2, X_test2, y_train2, y_test2 = train_test_split(m_train, target, test_size=0.25, random_state=1)\n",
    "X_train3, X_test3, y_train3, y_test3 = train_test_split(s_train, target, test_size=0.25, random_state=1)"
   ]
  },
  {
   "cell_type": "code",
   "execution_count": 19,
   "metadata": {},
   "outputs": [
    {
     "name": "stdout",
     "output_type": "stream",
     "text": [
      "Normalizer score is 0.5632183908045977\n",
      "MInMaxScaler score is 0.5632183908045977\n",
      "StandardScaler score is 0.6091954022988506\n"
     ]
    }
   ],
   "source": [
    "from sklearn.neighbors import KNeighborsClassifier\n",
    "\n",
    "knn = KNeighborsClassifier()\n",
    "print(\"Normalizer score is {}\".format(knn.fit(X_train1, y_train1).score(X_test1, y_test1)))\n",
    "print(\"MInMaxScaler score is {}\".format(knn.fit(X_train2, y_train2).score(X_test2, y_test2)))\n",
    "print(\"StandardScaler score is {}\".format(knn.fit(X_train3, y_train3).score(X_test3, y_test3)))"
   ]
  },
  {
   "cell_type": "code",
   "execution_count": 21,
   "metadata": {},
   "outputs": [
    {
     "name": "stdout",
     "output_type": "stream",
     "text": [
      "Normalizer score is 0.6206896551724138\n",
      "MinMaxScaler score is 0.6781609195402298\n",
      "StandardScaler score is 0.632183908045977\n"
     ]
    }
   ],
   "source": [
    "from sklearn.linear_model import LogisticRegression\n",
    "logistic = LogisticRegression()\n",
    "print(\"Normalizer score is {}\".format(logistic.fit(X_train1, y_train1).score(X_test1, y_test1)))\n",
    "print(\"MinMaxScaler score is {}\".format(logistic.fit(X_train2, y_train2).score(X_test2, y_test2)))\n",
    "print(\"StandardScaler score is {}\".format(logistic.fit(X_train3, y_train3).score(X_test3, y_test3)))"
   ]
  },
  {
   "cell_type": "code",
   "execution_count": 22,
   "metadata": {},
   "outputs": [],
   "source": [
    "def select_good_model(model, train, target):\n",
    "    scores = []\n",
    "    for i in [0.1, 0.2, 0.3]:\n",
    "        X_train, X_test, y_train, y_test = train_test_split(train, target, test_size=i)\n",
    "        score = model.fit(X_train, y_train).score(X_test, y_test)\n",
    "        modelname = model.__class__.__name__\n",
    "        print(\"{} scale:{} score:{}\".format(modelname, i, score))\n",
    "        scores.append(score)\n",
    "    return np.array(scores).std()\n",
    "        "
   ]
  },
  {
   "cell_type": "code",
   "execution_count": 23,
   "metadata": {},
   "outputs": [
    {
     "name": "stdout",
     "output_type": "stream",
     "text": [
      "KNeighborsClassifier scale:0.1 score:0.6\n",
      "KNeighborsClassifier scale:0.2 score:0.6\n",
      "KNeighborsClassifier scale:0.3 score:0.638095238095238\n"
     ]
    },
    {
     "data": {
      "text/plain": [
       "0.017958267458705955"
      ]
     },
     "execution_count": 23,
     "metadata": {},
     "output_type": "execute_result"
    }
   ],
   "source": [
    "select_good_model(knn, m_train, target)"
   ]
  },
  {
   "cell_type": "code",
   "execution_count": 24,
   "metadata": {},
   "outputs": [
    {
     "name": "stdout",
     "output_type": "stream",
     "text": [
      "LogisticRegression scale:0.1 score:0.6857142857142857\n",
      "LogisticRegression scale:0.2 score:0.7285714285714285\n",
      "LogisticRegression scale:0.3 score:0.6761904761904762\n"
     ]
    },
    {
     "data": {
      "text/plain": [
       "0.02278206364191636"
      ]
     },
     "execution_count": 24,
     "metadata": {},
     "output_type": "execute_result"
    }
   ],
   "source": [
    "select_good_model(logistic, m_train, target)"
   ]
  },
  {
   "cell_type": "code",
   "execution_count": 26,
   "metadata": {},
   "outputs": [],
   "source": [
    "from sklearn.naive_bayes import GaussianNB\n",
    "from sklearn.svm import SVC\n",
    "from sklearn.tree import DecisionTreeClassifier"
   ]
  },
  {
   "cell_type": "code",
   "execution_count": 28,
   "metadata": {},
   "outputs": [
    {
     "name": "stdout",
     "output_type": "stream",
     "text": [
      "GaussianNB scale:0.1 score:0.5142857142857142\n",
      "GaussianNB scale:0.2 score:0.6142857142857143\n",
      "GaussianNB scale:0.3 score:0.6857142857142857\n",
      "SVC scale:0.1 score:0.6\n",
      "SVC scale:0.2 score:0.7285714285714285\n",
      "SVC scale:0.3 score:0.6857142857142857\n",
      "DecisionTreeClassifier scale:0.1 score:0.5714285714285714\n",
      "DecisionTreeClassifier scale:0.2 score:0.6714285714285714\n",
      "DecisionTreeClassifier scale:0.3 score:0.6\n"
     ]
    },
    {
     "data": {
      "text/plain": [
       "0.04205600412537069"
      ]
     },
     "execution_count": 28,
     "metadata": {},
     "output_type": "execute_result"
    }
   ],
   "source": [
    "gaussian = GaussianNB()\n",
    "svc = SVC(kernel='rbf')\n",
    "tree = DecisionTreeClassifier()\n",
    "select_good_model(gaussian, m_train, target)\n",
    "select_good_model(svc, m_train, target)\n",
    "select_good_model(tree, m_train, target)"
   ]
  },
  {
   "cell_type": "code",
   "execution_count": 30,
   "metadata": {},
   "outputs": [],
   "source": [
    "def select_best_model(model):\n",
    "    std_list = []\n",
    "    for _ in range(10):\n",
    "        std = select_good_model(model, m_train, target)\n",
    "        std_list.append(std)\n",
    "        \n",
    "    mean = np.array(std_list).mean()\n",
    "    model_name = model.__class__.__name__\n",
    "    print('{}最终的运行评分的方差均值为{}'.format(model_name, mean))\n",
    "    "
   ]
  },
  {
   "cell_type": "code",
   "execution_count": 31,
   "metadata": {},
   "outputs": [
    {
     "name": "stdout",
     "output_type": "stream",
     "text": [
      "KNeighborsClassifier scale:0.1 score:0.6285714285714286\n",
      "KNeighborsClassifier scale:0.2 score:0.7142857142857143\n",
      "KNeighborsClassifier scale:0.3 score:0.6476190476190476\n",
      "KNeighborsClassifier scale:0.1 score:0.7142857142857143\n",
      "KNeighborsClassifier scale:0.2 score:0.6571428571428571\n",
      "KNeighborsClassifier scale:0.3 score:0.6476190476190476\n",
      "KNeighborsClassifier scale:0.1 score:0.7142857142857143\n",
      "KNeighborsClassifier scale:0.2 score:0.6142857142857143\n",
      "KNeighborsClassifier scale:0.3 score:0.7142857142857143\n",
      "KNeighborsClassifier scale:0.1 score:0.6857142857142857\n",
      "KNeighborsClassifier scale:0.2 score:0.6285714285714286\n",
      "KNeighborsClassifier scale:0.3 score:0.6\n",
      "KNeighborsClassifier scale:0.1 score:0.7142857142857143\n",
      "KNeighborsClassifier scale:0.2 score:0.6285714285714286\n",
      "KNeighborsClassifier scale:0.3 score:0.6095238095238096\n",
      "KNeighborsClassifier scale:0.1 score:0.6285714285714286\n",
      "KNeighborsClassifier scale:0.2 score:0.6571428571428571\n",
      "KNeighborsClassifier scale:0.3 score:0.6666666666666666\n",
      "KNeighborsClassifier scale:0.1 score:0.6857142857142857\n",
      "KNeighborsClassifier scale:0.2 score:0.6428571428571429\n",
      "KNeighborsClassifier scale:0.3 score:0.6190476190476191\n",
      "KNeighborsClassifier scale:0.1 score:0.5714285714285714\n",
      "KNeighborsClassifier scale:0.2 score:0.5857142857142857\n",
      "KNeighborsClassifier scale:0.3 score:0.7333333333333333\n",
      "KNeighborsClassifier scale:0.1 score:0.7714285714285715\n",
      "KNeighborsClassifier scale:0.2 score:0.6714285714285714\n",
      "KNeighborsClassifier scale:0.3 score:0.6952380952380952\n",
      "KNeighborsClassifier scale:0.1 score:0.5714285714285714\n",
      "KNeighborsClassifier scale:0.2 score:0.6571428571428571\n",
      "KNeighborsClassifier scale:0.3 score:0.5428571428571428\n",
      "KNeighborsClassifier最终的运行评分的方差均值为0.04027010613337668\n"
     ]
    }
   ],
   "source": [
    "select_best_model(knn)"
   ]
  },
  {
   "cell_type": "code",
   "execution_count": 33,
   "metadata": {},
   "outputs": [
    {
     "name": "stdout",
     "output_type": "stream",
     "text": [
      "LogisticRegression scale:0.1 score:0.8\n",
      "LogisticRegression scale:0.2 score:0.7142857142857143\n",
      "LogisticRegression scale:0.3 score:0.6190476190476191\n",
      "LogisticRegression scale:0.1 score:0.6571428571428571\n",
      "LogisticRegression scale:0.2 score:0.7428571428571429\n",
      "LogisticRegression scale:0.3 score:0.7619047619047619\n",
      "LogisticRegression scale:0.1 score:0.6857142857142857\n",
      "LogisticRegression scale:0.2 score:0.7571428571428571\n",
      "LogisticRegression scale:0.3 score:0.7619047619047619\n",
      "LogisticRegression scale:0.1 score:0.6285714285714286\n",
      "LogisticRegression scale:0.2 score:0.6714285714285714\n",
      "LogisticRegression scale:0.3 score:0.7047619047619048\n",
      "LogisticRegression scale:0.1 score:0.7428571428571429\n",
      "LogisticRegression scale:0.2 score:0.7428571428571429\n",
      "LogisticRegression scale:0.3 score:0.7142857142857143\n",
      "LogisticRegression scale:0.1 score:0.6857142857142857\n",
      "LogisticRegression scale:0.2 score:0.6857142857142857\n",
      "LogisticRegression scale:0.3 score:0.6857142857142857\n",
      "LogisticRegression scale:0.1 score:0.8285714285714286\n",
      "LogisticRegression scale:0.2 score:0.7142857142857143\n",
      "LogisticRegression scale:0.3 score:0.7238095238095238\n",
      "LogisticRegression scale:0.1 score:0.7714285714285715\n",
      "LogisticRegression scale:0.2 score:0.7428571428571429\n",
      "LogisticRegression scale:0.3 score:0.6571428571428571\n",
      "LogisticRegression scale:0.1 score:0.6571428571428571\n",
      "LogisticRegression scale:0.2 score:0.6571428571428571\n",
      "LogisticRegression scale:0.3 score:0.7428571428571429\n",
      "LogisticRegression scale:0.1 score:0.6857142857142857\n",
      "LogisticRegression scale:0.2 score:0.6857142857142857\n",
      "LogisticRegression scale:0.3 score:0.7428571428571429\n",
      "LogisticRegression最终的运行评分的方差均值为0.036665616887013176\n"
     ]
    }
   ],
   "source": [
    "select_best_model(logistic)"
   ]
  },
  {
   "cell_type": "code",
   "execution_count": 34,
   "metadata": {},
   "outputs": [
    {
     "name": "stdout",
     "output_type": "stream",
     "text": [
      "SVC scale:0.1 score:0.6\n",
      "SVC scale:0.2 score:0.7\n",
      "SVC scale:0.3 score:0.7619047619047619\n",
      "SVC scale:0.1 score:0.6857142857142857\n",
      "SVC scale:0.2 score:0.7\n",
      "SVC scale:0.3 score:0.6095238095238096\n",
      "SVC scale:0.1 score:0.6285714285714286\n",
      "SVC scale:0.2 score:0.6142857142857143\n",
      "SVC scale:0.3 score:0.7047619047619048\n",
      "SVC scale:0.1 score:0.7428571428571429\n",
      "SVC scale:0.2 score:0.6714285714285714\n",
      "SVC scale:0.3 score:0.7047619047619048\n",
      "SVC scale:0.1 score:0.6857142857142857\n",
      "SVC scale:0.2 score:0.7571428571428571\n",
      "SVC scale:0.3 score:0.6952380952380952\n",
      "SVC scale:0.1 score:0.5428571428571428\n",
      "SVC scale:0.2 score:0.6142857142857143\n",
      "SVC scale:0.3 score:0.6666666666666666\n",
      "SVC scale:0.1 score:0.4857142857142857\n",
      "SVC scale:0.2 score:0.7142857142857143\n",
      "SVC scale:0.3 score:0.7238095238095238\n",
      "SVC scale:0.1 score:0.6857142857142857\n",
      "SVC scale:0.2 score:0.7285714285714285\n",
      "SVC scale:0.3 score:0.7238095238095238\n",
      "SVC scale:0.1 score:0.6285714285714286\n",
      "SVC scale:0.2 score:0.6142857142857143\n",
      "SVC scale:0.3 score:0.7142857142857143\n",
      "SVC scale:0.1 score:0.6285714285714286\n",
      "SVC scale:0.2 score:0.6714285714285714\n",
      "SVC scale:0.3 score:0.6952380952380952\n",
      "SVC最终的运行评分的方差均值为0.045871274146443444\n"
     ]
    }
   ],
   "source": [
    "select_best_model(svc)"
   ]
  },
  {
   "cell_type": "code",
   "execution_count": 35,
   "metadata": {},
   "outputs": [
    {
     "name": "stdout",
     "output_type": "stream",
     "text": [
      "GaussianNB scale:0.1 score:0.7142857142857143\n",
      "GaussianNB scale:0.2 score:0.6142857142857143\n",
      "GaussianNB scale:0.3 score:0.7523809523809524\n",
      "GaussianNB scale:0.1 score:0.7428571428571429\n",
      "GaussianNB scale:0.2 score:0.6857142857142857\n",
      "GaussianNB scale:0.3 score:0.6190476190476191\n",
      "GaussianNB scale:0.1 score:0.6571428571428571\n",
      "GaussianNB scale:0.2 score:0.6714285714285714\n",
      "GaussianNB scale:0.3 score:0.6285714285714286\n",
      "GaussianNB scale:0.1 score:0.7142857142857143\n",
      "GaussianNB scale:0.2 score:0.7142857142857143\n",
      "GaussianNB scale:0.3 score:0.6476190476190476\n",
      "GaussianNB scale:0.1 score:0.7428571428571429\n",
      "GaussianNB scale:0.2 score:0.6142857142857143\n",
      "GaussianNB scale:0.3 score:0.7142857142857143\n",
      "GaussianNB scale:0.1 score:0.6285714285714286\n",
      "GaussianNB scale:0.2 score:0.7142857142857143\n",
      "GaussianNB scale:0.3 score:0.6666666666666666\n",
      "GaussianNB scale:0.1 score:0.7142857142857143\n",
      "GaussianNB scale:0.2 score:0.6857142857142857\n",
      "GaussianNB scale:0.3 score:0.6666666666666666\n",
      "GaussianNB scale:0.1 score:0.6285714285714286\n",
      "GaussianNB scale:0.2 score:0.5857142857142857\n",
      "GaussianNB scale:0.3 score:0.6571428571428571\n",
      "GaussianNB scale:0.1 score:0.6285714285714286\n",
      "GaussianNB scale:0.2 score:0.5285714285714286\n",
      "GaussianNB scale:0.3 score:0.5619047619047619\n",
      "GaussianNB scale:0.1 score:0.6\n",
      "GaussianNB scale:0.2 score:0.7285714285714285\n",
      "GaussianNB scale:0.3 score:0.6571428571428571\n",
      "GaussianNB最终的运行评分的方差均值为0.03913564715981291\n"
     ]
    }
   ],
   "source": [
    "select_best_model(gaussian)"
   ]
  },
  {
   "cell_type": "code",
   "execution_count": 36,
   "metadata": {},
   "outputs": [
    {
     "name": "stdout",
     "output_type": "stream",
     "text": [
      "DecisionTreeClassifier scale:0.1 score:0.6\n",
      "DecisionTreeClassifier scale:0.2 score:0.6\n",
      "DecisionTreeClassifier scale:0.3 score:0.5523809523809524\n",
      "DecisionTreeClassifier scale:0.1 score:0.5142857142857142\n",
      "DecisionTreeClassifier scale:0.2 score:0.6571428571428571\n",
      "DecisionTreeClassifier scale:0.3 score:0.6476190476190476\n",
      "DecisionTreeClassifier scale:0.1 score:0.5714285714285714\n",
      "DecisionTreeClassifier scale:0.2 score:0.5857142857142857\n",
      "DecisionTreeClassifier scale:0.3 score:0.580952380952381\n",
      "DecisionTreeClassifier scale:0.1 score:0.6571428571428571\n",
      "DecisionTreeClassifier scale:0.2 score:0.6\n",
      "DecisionTreeClassifier scale:0.3 score:0.5904761904761905\n",
      "DecisionTreeClassifier scale:0.1 score:0.5142857142857142\n",
      "DecisionTreeClassifier scale:0.2 score:0.5\n",
      "DecisionTreeClassifier scale:0.3 score:0.6285714285714286\n",
      "DecisionTreeClassifier scale:0.1 score:0.6571428571428571\n",
      "DecisionTreeClassifier scale:0.2 score:0.7\n",
      "DecisionTreeClassifier scale:0.3 score:0.6\n",
      "DecisionTreeClassifier scale:0.1 score:0.6285714285714286\n",
      "DecisionTreeClassifier scale:0.2 score:0.45714285714285713\n",
      "DecisionTreeClassifier scale:0.3 score:0.6\n",
      "DecisionTreeClassifier scale:0.1 score:0.6285714285714286\n",
      "DecisionTreeClassifier scale:0.2 score:0.5857142857142857\n",
      "DecisionTreeClassifier scale:0.3 score:0.5904761904761905\n",
      "DecisionTreeClassifier scale:0.1 score:0.6\n",
      "DecisionTreeClassifier scale:0.2 score:0.6\n",
      "DecisionTreeClassifier scale:0.3 score:0.6095238095238096\n",
      "DecisionTreeClassifier scale:0.1 score:0.6857142857142857\n",
      "DecisionTreeClassifier scale:0.2 score:0.5142857142857142\n",
      "DecisionTreeClassifier scale:0.3 score:0.6\n",
      "DecisionTreeClassifier最终的运行评分的方差均值为0.03901885025464525\n"
     ]
    }
   ],
   "source": [
    "select_best_model(tree)"
   ]
  },
  {
   "cell_type": "code",
   "execution_count": 37,
   "metadata": {},
   "outputs": [
    {
     "name": "stdout",
     "output_type": "stream",
     "text": [
      "C:0.01 score:0.6436781609195402\n",
      "C:0.1 score:0.6436781609195402\n",
      "C:0.5 score:0.6206896551724138\n",
      "C:1 score:0.6091954022988506\n",
      "C:5 score:0.632183908045977\n",
      "C:10 score:0.632183908045977\n"
     ]
    }
   ],
   "source": [
    "X_train, X_test, y_train, y_test = train_test_split(m_train, target)\n",
    "for i in [0.01, 0.1, 0.5, 1, 5, 10]:\n",
    "    logistic.set_params(C=i)\n",
    "    score = logistic.fit(X_train, y_train).score(X_test, y_test)\n",
    "    print(\"C:{} score:{}\".format(i, score))"
   ]
  },
  {
   "cell_type": "code",
   "execution_count": null,
   "metadata": {},
   "outputs": [],
   "source": []
  }
 ],
 "metadata": {
  "kernelspec": {
   "display_name": "Python 3",
   "language": "python",
   "name": "python3"
  },
  "language_info": {
   "codemirror_mode": {
    "name": "ipython",
    "version": 3
   },
   "file_extension": ".py",
   "mimetype": "text/x-python",
   "name": "python",
   "nbconvert_exporter": "python",
   "pygments_lexer": "ipython3",
   "version": "3.6.0"
  }
 },
 "nbformat": 4,
 "nbformat_minor": 2
}
